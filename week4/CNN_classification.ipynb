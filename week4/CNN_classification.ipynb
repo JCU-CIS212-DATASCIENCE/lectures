{
 "cells": [
  {
   "cell_type": "code",
   "execution_count": 22,
   "metadata": {},
   "outputs": [],
   "source": [
    "import matplotlib.pyplot as plt\n",
    "import numpy as np\n",
    "from keras.datasets import fashion_mnist\n",
    "from sklearn import preprocessing\n",
    "from sklearn.model_selection import train_test_split\n",
    "from tensorflow.keras.utils import to_categorical"
   ]
  },
  {
   "cell_type": "code",
   "execution_count": 10,
   "metadata": {},
   "outputs": [
    {
     "name": "stdout",
     "output_type": "stream",
     "text": [
      "This dataset has 10 classes\n",
      "Image size:  (28, 28)\n"
     ]
    }
   ],
   "source": [
    "#Loading the dataset\n",
    "(x_train,y_train),(x_test,y_test) = fashion_mnist.load_data()\n",
    "\n",
    "#Find the number of classes or categories\n",
    "classes = np.unique(y_train)\n",
    "nClasses = len(classes)\n",
    "print(\"This dataset has {0:d} classes\".format(nClasses))\n",
    "\n",
    "y_name = {0:\"T-shirt\",1:\"Trouser\",2:\"Pullover\",3:\"Dress\",4:\"Coat\",5:\"Sandals\",6:\"Shirt\",7:\"Sneaker\",8:\"Bag\",9:\"Ankle Boot\"}\n",
    "\n",
    "print(\"Image size: \",x_train[0].shape)\n",
    "\n"
   ]
  },
  {
   "cell_type": "code",
   "execution_count": 11,
   "metadata": {},
   "outputs": [
    {
     "data": {
      "image/png": "[encoded data removed]",
      "text/plain": [
       "<Figure size 720x720 with 3 Axes>"
      ]
     },
     "metadata": {
      "needs_background": "light"
     },
     "output_type": "display_data"
    }
   ],
   "source": [
    "# Printing the dataset's samples\n",
    "\n",
    "_, fig = plt.subplots(1,3,figsize=(10,10))\n",
    "\n",
    "for ax, image, label in zip(fig, x_train, y_train):\n",
    "    ax.set_axis_off\n",
    "    ax.imshow(image, cmap=plt.cm.Greys_r)\n",
    "    ax.set_title(\"Training: %s\" %y_name[label])\n",
    "\n",
    "\n"
   ]
  },
  {
   "cell_type": "code",
   "execution_count": 13,
   "metadata": {},
   "outputs": [
    {
     "name": "stdout",
     "output_type": "stream",
     "text": [
      "New data shape: (samples,width,length,channel)= (60000, 28, 28, 1)\n"
     ]
    }
   ],
   "source": [
    "# find the input format for the CNN\n",
    "\n",
    "x_train_reshape = x_train.reshape((-1,28,28,1))\n",
    "x_test_reshape = x_test.reshape((-1,28,28,1))\n",
    "\n",
    "print(\"New data shape: (samples,width,length,channel)=\",x_train_reshape.shape)"
   ]
  },
  {
   "cell_type": "code",
   "execution_count": 14,
   "metadata": {},
   "outputs": [],
   "source": [
    "#Changing the pixel's value format from unit8 to float32.set\n",
    "x_train_reshape = x_train_reshape.astype(\"float32\")\n",
    "x_test_reshape = x_test_reshape.astype(\"float32\")\n"
   ]
  },
  {
   "cell_type": "code",
   "execution_count": 21,
   "metadata": {},
   "outputs": [
    {
     "name": "stdout",
     "output_type": "stream",
     "text": [
      "[0.75686276]\n"
     ]
    }
   ],
   "source": [
    "#Normalizing the data\n",
    "x_train_reshape = x_train_reshape/255\n",
    "x_test_reshape = x_test_reshape/255 \n",
    "print(x_train_reshape[0][20][4])"
   ]
  },
  {
   "cell_type": "code",
   "execution_count": 23,
   "metadata": {},
   "outputs": [],
   "source": [
    "#Transform the labels into a categorical format or \"one-hot encoding\"\n",
    "y_train_one_hot = to_categorical(y_train)\n",
    "y_test_one_hot = to_categorical(y_test)\n",
    "\n",
    "\n",
    "#Use the train_test_split function to create a new dataset called validation dataset.\n",
    "\n",
    "x_train_data, x_validation_data, y_train_data, y_validation_data = train_test_split(x_train_reshape,y_train_one_hot)"
   ]
  },
  {
   "cell_type": "code",
   "execution_count": 25,
   "metadata": {},
   "outputs": [],
   "source": [
    "#Import the required layer to build our CNN model\n",
    "\n",
    "from keras.models import Sequential, Input, Model\n",
    "from keras.layers import Dense,Dropout,Flatten \n",
    "from keras.layers import Conv2D, MaxPool2D\n",
    "from keras.layers.advanced_activations import LeakyReLU"
   ]
  },
  {
   "cell_type": "code",
   "execution_count": 26,
   "metadata": {},
   "outputs": [],
   "source": [
    "# Define Hyperparameters\n",
    "batch_size = 32\n",
    "epochs = 15\n",
    "num_classes = 10"
   ]
  },
  {
   "cell_type": "code",
   "execution_count": 28,
   "metadata": {},
   "outputs": [],
   "source": [
    "# Build your CNN model\n",
    "fashion_model = Sequential()\n",
    "fashion_model.add(Conv2D(32,kernel_size=(3,3),activation = 'linear',input_shape=(28,28,1),padding='same'))\n",
    "fashion_model.add(LeakyReLU(alpha=0.1))\n",
    "fashion_model.add(Conv2D(64,kernel_size=(3,3),activation = 'linear',padding='same'))\n",
    "fashion_model.add(MaxPool2D(pool_size=(2,2),padding='same'))\n",
    "fashion_model.add(Conv2D(128,kernel_size=(3,3),activation = 'linear',padding='same'))\n",
    "fashion_model.add(LeakyReLU(alpha=0.1))\n",
    "fashion_model.add(MaxPool2D(pool_size=(2,2),padding='same'))\n",
    "fashion_model.add(Flatten())\n",
    "fashion_model.add(Dense(128,activation='linear'))\n",
    "fashion_model.add(LeakyReLU(alpha=0.1))\n",
    "fashion_model.add(Dense(num_classes,activation='softmax'))\n"
   ]
  },
  {
   "cell_type": "code",
   "execution_count": 29,
   "metadata": {},
   "outputs": [],
   "source": [
    "#Compile the model\n",
    "fashion_model.compile(loss='binary_crossentropy', optimizer='adam', metrics=['accuracy'])"
   ]
  },
  {
   "cell_type": "code",
   "execution_count": 30,
   "metadata": {},
   "outputs": [
    {
     "name": "stdout",
     "output_type": "stream",
     "text": [
      "Model: \"sequential_1\"\n",
      "_________________________________________________________________\n",
      " Layer (type)                Output Shape              Param #   \n",
      "=================================================================\n",
      " conv2d_1 (Conv2D)           (None, 28, 28, 32)        320       \n",
      "                                                                 \n",
      " leaky_re_lu (LeakyReLU)     (None, 28, 28, 32)        0         \n",
      "                                                                 \n",
      " conv2d_2 (Conv2D)           (None, 28, 28, 64)        18496     \n",
      "                                                                 \n",
      " max_pooling2d (MaxPooling2D  (None, 14, 14, 64)       0         \n",
      " )                                                               \n",
      "                                                                 \n",
      " conv2d_3 (Conv2D)           (None, 14, 14, 128)       73856     \n",
      "                                                                 \n",
      " leaky_re_lu_1 (LeakyReLU)   (None, 14, 14, 128)       0         \n",
      "                                                                 \n",
      " max_pooling2d_1 (MaxPooling  (None, 7, 7, 128)        0         \n",
      " 2D)                                                             \n",
      "                                                                 \n",
      " flatten (Flatten)           (None, 6272)              0         \n",
      "                                                                 \n",
      " dense (Dense)               (None, 128)               802944    \n",
      "                                                                 \n",
      " leaky_re_lu_2 (LeakyReLU)   (None, 128)               0         \n",
      "                                                                 \n",
      " dense_1 (Dense)             (None, 10)                1290      \n",
      "                                                                 \n",
      "=================================================================\n",
      "Total params: 896,906\n",
      "Trainable params: 896,906\n",
      "Non-trainable params: 0\n",
      "_________________________________________________________________\n"
     ]
    }
   ],
   "source": [
    "# Checking the configuration of my CNN model\n",
    "\n",
    "fashion_model.summary()"
   ]
  },
  {
   "cell_type": "code",
   "execution_count": 31,
   "metadata": {},
   "outputs": [
    {
     "name": "stderr",
     "output_type": "stream",
     "text": [
      "2023-06-20 15:06:08.020892: W tensorflow/core/platform/profile_utils/cpu_utils.cc:128] Failed to get CPU frequency: 0 Hz\n"
     ]
    },
    {
     "name": "stdout",
     "output_type": "stream",
     "text": [
      "Epoch 1/15\n"
     ]
    },
    {
     "name": "stderr",
     "output_type": "stream",
     "text": [
      "2023-06-20 15:06:08.225749: I tensorflow/core/grappler/optimizers/custom_graph_optimizer_registry.cc:112] Plugin optimizer for device_type GPU is enabled.\n"
     ]
    },
    {
     "name": "stdout",
     "output_type": "stream",
     "text": [
      "1407/1407 [==============================] - ETA: 0s - loss: 0.0750 - accuracy: 0.8570"
     ]
    },
    {
     "name": "stderr",
     "output_type": "stream",
     "text": [
      "2023-06-20 15:06:35.202324: I tensorflow/core/grappler/optimizers/custom_graph_optimizer_registry.cc:112] Plugin optimizer for device_type GPU is enabled.\n"
     ]
    },
    {
     "name": "stdout",
     "output_type": "stream",
     "text": [
      "1407/1407 [==============================] - 31s 21ms/step - loss: 0.0750 - accuracy: 0.8570 - val_loss: 0.0543 - val_accuracy: 0.8967\n",
      "Epoch 2/15\n",
      "1407/1407 [==============================] - 29s 21ms/step - loss: 0.0461 - accuracy: 0.9122 - val_loss: 0.0451 - val_accuracy: 0.9127\n",
      "Epoch 3/15\n",
      "1407/1407 [==============================] - 30s 21ms/step - loss: 0.0371 - accuracy: 0.9292 - val_loss: 0.0419 - val_accuracy: 0.9199\n",
      "Epoch 4/15\n",
      "1407/1407 [==============================] - 29s 21ms/step - loss: 0.0298 - accuracy: 0.9436 - val_loss: 0.0428 - val_accuracy: 0.9197\n",
      "Epoch 5/15\n",
      "1407/1407 [==============================] - 30s 21ms/step - loss: 0.0237 - accuracy: 0.9562 - val_loss: 0.0420 - val_accuracy: 0.9235\n",
      "Epoch 6/15\n",
      "1407/1407 [==============================] - 30s 21ms/step - loss: 0.0185 - accuracy: 0.9671 - val_loss: 0.0498 - val_accuracy: 0.9229\n",
      "Epoch 7/15\n",
      "1407/1407 [==============================] - 29s 21ms/step - loss: 0.0143 - accuracy: 0.9763 - val_loss: 0.0471 - val_accuracy: 0.9221\n",
      "Epoch 8/15\n",
      "1407/1407 [==============================] - 29s 21ms/step - loss: 0.0109 - accuracy: 0.9828 - val_loss: 0.0635 - val_accuracy: 0.9253\n",
      "Epoch 9/15\n",
      "1407/1407 [==============================] - 30s 21ms/step - loss: 0.0093 - accuracy: 0.9863 - val_loss: 0.0582 - val_accuracy: 0.9291\n",
      "Epoch 10/15\n",
      "1407/1407 [==============================] - 28s 20ms/step - loss: 0.0072 - accuracy: 0.9896 - val_loss: 0.0645 - val_accuracy: 0.9257\n",
      "Epoch 11/15\n",
      "1407/1407 [==============================] - 29s 20ms/step - loss: 0.0064 - accuracy: 0.9921 - val_loss: 0.0776 - val_accuracy: 0.9222\n",
      "Epoch 12/15\n",
      "1407/1407 [==============================] - 29s 21ms/step - loss: 0.0061 - accuracy: 0.9923 - val_loss: 0.0788 - val_accuracy: 0.9250\n",
      "Epoch 13/15\n",
      "1407/1407 [==============================] - 30s 21ms/step - loss: 0.0050 - accuracy: 0.9941 - val_loss: 0.0785 - val_accuracy: 0.9257\n",
      "Epoch 14/15\n",
      "1407/1407 [==============================] - 29s 20ms/step - loss: 0.0054 - accuracy: 0.9936 - val_loss: 0.0794 - val_accuracy: 0.9261\n",
      "Epoch 15/15\n",
      "1407/1407 [==============================] - 28s 20ms/step - loss: 0.0047 - accuracy: 0.9947 - val_loss: 0.0945 - val_accuracy: 0.9254\n"
     ]
    }
   ],
   "source": [
    "# Train your model\n",
    "fashion_trained_history = fashion_model.fit(x_train_data,y_train_data,batch_size=batch_size,epochs=epochs,verbose=1,validation_data=(x_validation_data,y_validation_data))\n"
   ]
  },
  {
   "cell_type": "code",
   "execution_count": 33,
   "metadata": {},
   "outputs": [
    {
     "name": "stdout",
     "output_type": "stream",
     "text": [
      "              precision    recall  f1-score   support\n",
      "\n",
      "           0       0.82      0.90      0.86       911\n",
      "           1       0.98      0.99      0.99       994\n",
      "           2       0.85      0.92      0.88       927\n",
      "           3       0.91      0.93      0.92       982\n",
      "           4       0.92      0.85      0.88      1081\n",
      "           5       0.98      0.98      0.98      1002\n",
      "           6       0.80      0.72      0.76      1103\n",
      "           7       0.98      0.94      0.96      1041\n",
      "           8       0.98      0.99      0.99       995\n",
      "           9       0.95      0.98      0.97       964\n",
      "\n",
      "    accuracy                           0.92     10000\n",
      "   macro avg       0.92      0.92      0.92     10000\n",
      "weighted avg       0.92      0.92      0.92     10000\n",
      "\n"
     ]
    }
   ],
   "source": [
    "#Classify the test data set\n",
    "predited_label = fashion_model.predict(x_test_reshape)\n",
    "\n",
    "#Select the highest probability \n",
    "predited_label_inverse = np.argmax(predited_label,axis=1)\n",
    "y_test_inverse = np.argmax(y_test_one_hot,axis=1)\n",
    "\n",
    "\n",
    "#Printing the classification report\n",
    "from sklearn.metrics import classification_report\n",
    "\n",
    "print(classification_report(predited_label_inverse,y_test_inverse))"
   ]
  }
 ],
 "metadata": {
  "kernelspec": {
   "display_name": "base",
   "language": "python",
   "name": "python3"
  },
  "language_info": {
   "codemirror_mode": {
    "name": "ipython",
    "version": 3
   },
   "file_extension": ".py",
   "mimetype": "text/x-python",
   "name": "python",
   "nbconvert_exporter": "python",
   "pygments_lexer": "ipython3",
   "version": "3.9.7"
  },
  "orig_nbformat": 4
 },
 "nbformat": 4,
 "nbformat_minor": 2
}
