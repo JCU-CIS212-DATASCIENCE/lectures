{
 "cells": [
  {
   "cell_type": "code",
   "execution_count": 1,
   "metadata": {},
   "outputs": [],
   "source": [
    "import numpy as np\n",
    "import matplotlib.pyplot as plt\n",
    "from sklearn import datasets, metrics\n",
    "from sklearn.model_selection import train_test_split\n",
    "from sklearn.neural_network import MLPClassifier\n",
    "from sklearn.metrics import plot_confusion_matrix "
   ]
  },
  {
   "cell_type": "code",
   "execution_count": 3,
   "metadata": {},
   "outputs": [
    {
     "name": "stdout",
     "output_type": "stream",
     "text": [
      "the images size is:  (8, 8)\n",
      "The number of samples is:  1797\n"
     ]
    }
   ],
   "source": [
    "# the digits dataset of 8X8 pixel images.\n",
    "\n",
    "digits = datasets.load_digits()\n",
    "image_size = digits.images[0].shape\n",
    "n_sample = len(digits.images)\n",
    "print(\"the images size is: \",image_size)\n",
    "print(\"The number of samples is: \",n_sample)"
   ]
  },
  {
   "cell_type": "code",
   "execution_count": 9,
   "metadata": {},
   "outputs": [
    {
     "data": {
      "image/png": "[encoded data removed]",
      "text/plain": [
       "<Figure size 720x720 with 3 Axes>"
      ]
     },
     "metadata": {
      "needs_background": "light"
     },
     "output_type": "display_data"
    }
   ],
   "source": [
    "#printing the first three samples\n",
    "\n",
    "_, fig = plt.subplots(nrows=1,ncols=3,figsize =(10,10))\n",
    "\n",
    "for ax, image, label in zip(fig,digits.images,digits.target):\n",
    "    ax.set_axis_off()\n",
    "    ax.imshow(image, cmap=plt.cm.Greys_r)\n",
    "    ax.set_title(\"Training: %i\"%label)\n"
   ]
  },
  {
   "cell_type": "code",
   "execution_count": 11,
   "metadata": {},
   "outputs": [
    {
     "name": "stdout",
     "output_type": "stream",
     "text": [
      "(1797, 64)\n"
     ]
    }
   ],
   "source": [
    "#  reshape teh images into a vector of Nx1 (64X1).\n",
    "data = digits.images.reshape((n_sample,-1))\n",
    "print(data.shape)\n",
    "x_train, x_test, y_train, y_test = train_test_split(data,digits.target,random_state=42,test_size=0.20)"
   ]
  },
  {
   "cell_type": "code",
   "execution_count": 12,
   "metadata": {},
   "outputs": [
    {
     "data": {
      "text/plain": [
       "MLPClassifier(hidden_layer_sizes=(10, 12, 20), max_iter=600, random_state=2)"
      ]
     },
     "execution_count": 12,
     "metadata": {},
     "output_type": "execute_result"
    }
   ],
   "source": [
    "# Model configuration and training\n",
    "ann_model = MLPClassifier(solver=\"adam\", hidden_layer_sizes=(10,12,20),random_state=2,max_iter=600)\n",
    "\n",
    "#train the model\n",
    "ann_model.fit(x_train,y_train)"
   ]
  },
  {
   "cell_type": "code",
   "execution_count": 13,
   "metadata": {},
   "outputs": [],
   "source": [
    "# Testing the trained model\n",
    "predited_label = ann_model.predict(x_test)"
   ]
  },
  {
   "cell_type": "code",
   "execution_count": 14,
   "metadata": {},
   "outputs": [
    {
     "name": "stdout",
     "output_type": "stream",
     "text": [
      "              precision    recall  f1-score   support\n",
      "\n",
      "           0       0.97      0.97      0.97        33\n",
      "           1       0.90      0.93      0.91        28\n",
      "           2       0.94      0.88      0.91        33\n",
      "           3       0.94      0.94      0.94        34\n",
      "           4       0.96      1.00      0.98        46\n",
      "           5       0.98      0.98      0.98        47\n",
      "           6       0.97      0.97      0.97        35\n",
      "           7       0.97      0.97      0.97        34\n",
      "           8       0.93      0.93      0.93        30\n",
      "           9       0.97      0.95      0.96        40\n",
      "\n",
      "    accuracy                           0.96       360\n",
      "   macro avg       0.95      0.95      0.95       360\n",
      "weighted avg       0.96      0.96      0.96       360\n",
      "\n"
     ]
    }
   ],
   "source": [
    "# Evaluating the performance of your model\n",
    "print(metrics.classification_report(y_test,predited_label))"
   ]
  }
 ],
 "metadata": {
  "kernelspec": {
   "display_name": "base",
   "language": "python",
   "name": "python3"
  },
  "language_info": {
   "codemirror_mode": {
    "name": "ipython",
    "version": 3
   },
   "file_extension": ".py",
   "mimetype": "text/x-python",
   "name": "python",
   "nbconvert_exporter": "python",
   "pygments_lexer": "ipython3",
   "version": "3.9.7"
  },
  "orig_nbformat": 4
 },
 "nbformat": 4,
 "nbformat_minor": 2
}
