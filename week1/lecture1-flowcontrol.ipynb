{
 "cells": [
  {
   "attachments": {},
   "cell_type": "markdown",
   "metadata": {},
   "source": [
    "<h1 style=\"text-align: center;\"> Python Syntax and Flow Controls </h1>"
   ]
  },
  {
   "cell_type": "code",
   "execution_count": 5,
   "metadata": {},
   "outputs": [
    {
     "name": "stdout",
     "output_type": "stream",
     "text": [
      "float value: 3.80, int value: 3, string value CarlosTheran\n"
     ]
    }
   ],
   "source": [
    "# Understanding the different datatypes\n",
    "\n",
    "variable_float = 3.8\n",
    "variable_int = 3\n",
    "variable_string = \"CarlosTheran\"\n",
    "\n",
    "print(\"float value: {0:.2f}, int value: {1:d}, string value {2:s}\".format(variable_float,variable_int,variable_string))"
   ]
  },
  {
   "attachments": {},
   "cell_type": "markdown",
   "metadata": {},
   "source": [
    "<h2 style=\"text-align: center;\"> Quadratic Functions of From y=ax^2+bx+c</h2>"
   ]
  },
  {
   "cell_type": "code",
   "execution_count": 6,
   "metadata": {},
   "outputs": [],
   "source": [
    "import math as math \n",
    "import matplotlib.pyplot as plt\n",
    "import numpy as np"
   ]
  },
  {
   "cell_type": "code",
   "execution_count": 9,
   "metadata": {},
   "outputs": [
    {
     "name": "stdout",
     "output_type": "stream",
     "text": [
      "Coefficients a, b and c are: 1.00, 6.00, 2.00\n"
     ]
    }
   ],
   "source": [
    "# prompt the values for the coeffcient a, b and c.\n",
    "\n",
    "a, b, c = input(\"Write the values of your coefficient: \").split()\n",
    "a = float(a)\n",
    "b = float(b)\n",
    "c = float(c)\n",
    "\n",
    "print(\"Coefficients a, b and c are: {0:.2f}, {1:.2f}, {2:.2f}\".format(a,b,c))"
   ]
  },
  {
   "cell_type": "code",
   "execution_count": 10,
   "metadata": {},
   "outputs": [
    {
     "name": "stdout",
     "output_type": "stream",
     "text": [
      "x-intercepts: (-0.354,0), (-5.646,0)\n",
      "y-intercept: (0,2.000)\n"
     ]
    }
   ],
   "source": [
    "#Finding the x-intercepts\n",
    "root_1 = (-b+math.sqrt(math.pow(b,2)-4*a*c))/(2*a)\n",
    "root_2 = (-b-math.sqrt(math.pow(b,2)-4*a*c))/(2*a)\n",
    "\n",
    "print(\"x-intercepts: ({0:.3f},0), ({1:.3f},0)\".format(root_1, root_2))\n",
    "print(\"y-intercept: (0,{0:.3f})\".format(c))"
   ]
  },
  {
   "cell_type": "code",
   "execution_count": 11,
   "metadata": {},
   "outputs": [
    {
     "name": "stdout",
     "output_type": "stream",
     "text": [
      "x-intercepts: (-0.354,0), (-5.646,0)\n"
     ]
    }
   ],
   "source": [
    "discriminant = math.pow(b,2)-4*a*c\n",
    "\n",
    "if(discriminant >=0):\n",
    "  root_1 = (-b+math.sqrt(discriminant))/(2*a)\n",
    "  root_2 = (-b-math.sqrt(discriminant))/(2*a)  \n",
    "  print(\"x-intercepts: ({0:.3f},0), ({1:.3f},0)\".format(root_1, root_2))\n",
    "else:\n",
    "  print(\"quadratic function does not have x-intercept\")"
   ]
  },
  {
   "cell_type": "code",
   "execution_count": 12,
   "metadata": {},
   "outputs": [
    {
     "name": "stdout",
     "output_type": "stream",
     "text": [
      "The vertex of your function is (-3.000,-7.000)\n"
     ]
    }
   ],
   "source": [
    "h = -b/(2*a)\n",
    "k = a*math.pow(h,2)+b*h+c\n",
    "\n",
    "print(\"The vertex of your function is ({0:.3f},{1:.3f})\".format(h,k))"
   ]
  },
  {
   "cell_type": "code",
   "execution_count": 15,
   "metadata": {},
   "outputs": [
    {
     "data": {
      "text/plain": [
       "[<matplotlib.lines.Line2D at 0x152b5c280>]"
      ]
     },
     "execution_count": 15,
     "metadata": {},
     "output_type": "execute_result"
    },
    {
     "data": {
      "image/png": "[encoded data removed]",
      "text/plain": [
       "<Figure size 432x288 with 1 Axes>"
      ]
     },
     "metadata": {
      "needs_background": "light"
     },
     "output_type": "display_data"
    }
   ],
   "source": [
    "#Plot your function\n",
    "\n",
    "#define your x space\n",
    "x = np.linspace(-40,40,100)\n",
    "\n",
    "#define your quaratic function\n",
    "\n",
    "y = a*(x**2)+b*x+c\n",
    "\n",
    "fig = plt.figure()\n",
    "ax = fig.add_subplot(1,1,1)\n",
    "ax.spines['left'].set_position(\"center\")\n",
    "ax.spines['bottom'].set_position(\"center\")\n",
    "ax.spines['right'].set_color(\"none\")\n",
    "ax.spines['top'].set_color(\"none\")\n",
    "ax.xaxis.set_ticks_position(\"bottom\")\n",
    "ax.yaxis.set_ticks_position(\"left\")\n",
    "\n",
    "plt.plot(x,y,'r')\n"
   ]
  }
 ],
 "metadata": {
  "kernelspec": {
   "display_name": "base",
   "language": "python",
   "name": "python3"
  },
  "language_info": {
   "codemirror_mode": {
    "name": "ipython",
    "version": 3
   },
   "file_extension": ".py",
   "mimetype": "text/x-python",
   "name": "python",
   "nbconvert_exporter": "python",
   "pygments_lexer": "ipython3",
   "version": "3.9.7"
  },
  "orig_nbformat": 4
 },
 "nbformat": 4,
 "nbformat_minor": 2
}
