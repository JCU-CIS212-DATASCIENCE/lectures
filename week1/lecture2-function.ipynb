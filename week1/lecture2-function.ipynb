{
 "cells": [
  {
   "attachments": {},
   "cell_type": "markdown",
   "metadata": {},
   "source": [
    "<h1 style=\"text-align: center;\">Functions</h1>"
   ]
  },
  {
   "cell_type": "code",
   "execution_count": null,
   "metadata": {},
   "outputs": [],
   "source": [
    "import math as math\n",
    "import matplotlib.pyplot as plt\n",
    "import numpy as np"
   ]
  },
  {
   "cell_type": "code",
   "execution_count": null,
   "metadata": {},
   "outputs": [],
   "source": [
    "def client_input():\n",
    "    a, b, c = input(\"Write the values of your coefficient: \").split()\n",
    "    a = float(a)\n",
    "    b = float(b)\n",
    "    c = float(c)\n",
    "    print(\"Coefficients a, b and c are: {0:.2f}, {1:.2f}, {2:.2f}\".format(a,b,c))\n",
    "    return a, b, c\n",
    "\n",
    "def x_intercepts(a,b,c):\n",
    "    discriminant = math.pow(b,2)-4*a*c\n",
    "    if(discriminant >=0):\n",
    "        root_1 = (-b+math.sqrt(discriminant))/(2*a)\n",
    "        root_2 = (-b-math.sqrt(discriminant))/(2*a)  \n",
    "        output = True\n",
    "        print(\"x-intercepts: ({0:.3f},0), ({1:.3f},0)\".format(root_1, root_2))\n",
    "    else:\n",
    "        print(\"quadratic function does not have x-intercept\")\n",
    "        output = False\n",
    "    return output\n",
    "\n",
    "def vertex(a,b,c):\n",
    "    h = -b/(2*a)\n",
    "    k = a*math.pow(h,2)+b*h+c\n",
    "    print(\"The vertex of your function is ({0:.3f},{1:.3f})\".format(h,k)) \n",
    "\n",
    "def plot_QuadraticFunction(a,b,c):\n",
    "    #Plot your function\n",
    "\n",
    "    #define your x space\n",
    "    x = np.linspace(-40,40,100)\n",
    "\n",
    "    #define your quaratic function\n",
    "\n",
    "    y = a*(x**2)+b*x+c\n",
    "\n",
    "    fig = plt.figure()\n",
    "    ax = fig.add_subplot(1,1,1)\n",
    "    ax.spines['left'].set_position(\"center\")\n",
    "    ax.spines['bottom'].set_position(\"center\")\n",
    "    ax.spines['right'].set_color(\"none\")\n",
    "    ax.spines['top'].set_color(\"none\")\n",
    "    ax.xaxis.set_ticks_position(\"bottom\")\n",
    "    ax.yaxis.set_ticks_position(\"left\")\n",
    "\n",
    "    plt.plot(x,y,'r')\n"
   ]
  },
  {
   "cell_type": "code",
   "execution_count": null,
   "metadata": {},
   "outputs": [],
   "source": [
    "# main function\n",
    "a, b, c = client_input()\n",
    "x_intercepts(a,b,c)\n",
    "vertex(a,b,c)\n",
    "client_input()\n",
    "\n",
    "\n"
   ]
  }
 ],
 "metadata": {
  "language_info": {
   "name": "python"
  },
  "orig_nbformat": 4
 },
 "nbformat": 4,
 "nbformat_minor": 2
}
